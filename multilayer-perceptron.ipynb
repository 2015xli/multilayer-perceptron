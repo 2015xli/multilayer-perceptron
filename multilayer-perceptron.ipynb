{
 "cells": [
  {
   "cell_type": "code",
   "execution_count": 10,
   "metadata": {
    "collapsed": true
   },
   "outputs": [],
   "source": [
    "import numpy as np\n",
    "\n",
    "class Activation:\n",
    "    \n",
    "    def relu(self, x):\n",
    "        return np.maximum(x, 0)\n",
    "    def sigmoid(self, x):\n",
    "        return 1 / (1 + np.exp(-x))\n",
    "    def tanh(self, x):\n",
    "        return np.tanh(x)\n",
    "    def linear(self, x):\n",
    "        return x\n",
    "    def softmax(self, x):\n",
    "        exps = np.exp(x - x.max())\n",
    "        return exps / np.sum(exps)\n",
    "\n",
    "    def g_relu(self, x):\n",
    "        return 1 * (x > 0)\n",
    "    def g_sigmoid(self, x):\n",
    "        return (1 - x) * x\n",
    "    def g_tanh(self, x):\n",
    "        return 1 - x*x\n",
    "    def g_linear(self, x):\n",
    "        return 1 * (x==x)\n",
    "    def g_softmax(self, x):\n",
    "        dx_ds = np.diag(x) - np.dot(x, x.T)\n",
    "        return dx_ds.sum(axis=0).reshape(-1, 1) \n",
    "\n",
    "    \n",
    "    def __init__(self, act):\n",
    "        funcs = {\n",
    "            \"TANH\" : self.tanh,\n",
    "            \"SIGMOID\" : self.sigmoid,\n",
    "            \"RELU\" : self.relu,\n",
    "            \"LINEAR\" : self.linear,\n",
    "            \"SOFTMAX\" : self.softmax\n",
    "        }\n",
    "\n",
    "        grads = {\n",
    "            \"TANH\" : self.g_tanh,\n",
    "            \"SIGMOID\" : self.g_sigmoid,\n",
    "            \"RELU\" : self.g_relu,\n",
    "            \"LINEAR\" : self.g_linear,\n",
    "            \"SOFTMAX\" : self.g_softmax\n",
    "        }\n",
    "        self.act = act\n",
    "        self.func = funcs[act]\n",
    "        self.grad = grads[act]\n",
    "        \n",
    "        return       \n",
    "    \n",
    "    def __str__(self):\n",
    "        s = \"\\nActivation:\" + self.act\n",
    "        return s"
   ]
  },
  {
   "cell_type": "code",
   "execution_count": 11,
   "metadata": {
    "collapsed": true
   },
   "outputs": [],
   "source": [
    "import random\n",
    "\n",
    "class LinearLayer:\n",
    "\n",
    "    def init_weights(self, num):\n",
    "        w=[]\n",
    "        for i in range(num): \n",
    "            w.append(random.uniform(-1, 1))\n",
    "        return w            \n",
    "\n",
    "    def __init__(self, n_in, n_node, W=None, b=None):\n",
    "        self.n_node = n_node\n",
    "        self.n_in = n_in\n",
    "        \n",
    "        size = n_in*n_node\n",
    "        if W == None:\n",
    "            weights = self.init_weights(size)\n",
    "            weights = np.array(weights).reshape(n_node, n_in)\n",
    "            scale = np.sqrt(2./size)\n",
    "            self.W = weights * scale\n",
    "        else: \n",
    "            nu, ni = W.shape\n",
    "            if nu != n_node or ni != n_in:\n",
    "                raise ValueError(\"Incorrect weights input\")\n",
    "            else:\n",
    "                self.W = W\n",
    "              \n",
    "        self.b = b if b != None else np.zeros(shape=(n_node, 1))\n",
    "\n",
    "        #self.W = np.ones(shape=(n_node, n_in))\n",
    "        #self.b = np.ones(shape=(n_node, 1))\n",
    "\n",
    "        self.x = None\n",
    "        self.signal = None\n",
    "        self.y = None\n",
    "\n",
    "        self.in_grad = None\n",
    "        self.G = None\n",
    "        self.g_b = None\n",
    "        self.out_grad = None\n",
    "        return\n",
    "        \n",
    "    def forward(self, x):\n",
    "        self.x = x\n",
    "        self.y = np.dot(self.W, x) + self.b\n",
    "        self.signal = self.y\n",
    "        return self.y\n",
    "\n",
    "    def backward(self, node_grad):       \n",
    "        self.G = np.outer(node_grad, self.x)\n",
    "        self.g_b = node_grad\n",
    "        self.out_grad = np.dot(self.W.T, node_grad)         \n",
    "        return self.out_grad\n",
    "\n",
    "    def update(self, learning_rate):\n",
    "        self.W = self.W - self.G * learning_rate\n",
    "        self.b = self.b - self.g_b * learning_rate\n",
    "        return\n",
    "            \n",
    "    def __str__(self):\n",
    "        s = \"\\nx is:\\n\"+str(self.x)\n",
    "        s += \"\\nW is:\\n\" + str(self.W)\n",
    "        s += \"\\nb is:\\n\" + str(self.b)\n",
    "        s += \"\\ny is:\\n\"+str(self.y)\n",
    "        s += \"\\nin_grad is:\\n\"+str(self.in_grad)\n",
    "        s += \"\\nG is:\\n\"+str(self.G)\n",
    "        s += \"\\ng_b is:\\n\"+str(self.g_b)\n",
    "        s += \"\\nout_grad is:\\n\"+str(self.out_grad)\n",
    "        return s\n",
    "        "
   ]
  },
  {
   "cell_type": "code",
   "execution_count": 12,
   "metadata": {
    "collapsed": true
   },
   "outputs": [],
   "source": [
    "class ActivationLayer(LinearLayer):\n",
    "        \n",
    "    def __init__(self, n_in, n_node, W=None, b=None, act=\"SIGMOID\"):\n",
    "        super().__init__(n_in, n_node, W=None, b=None)\n",
    "        self.activation = Activation(act)\n",
    "        return\n",
    "        \n",
    "    def forward(self, x):\n",
    "        if x.size != self.n_in: \n",
    "            raise ValueError(\"Incorrect data input\", x.size, self.n_in)\n",
    "        # linear part first\n",
    "        signal = super().forward(x)\n",
    "        # nonlinear\n",
    "        self.y = self.activation.func(signal) \n",
    "        return self.y\n",
    "      \n",
    "    def backward(self, in_grad):\n",
    "        if in_grad.size != self.n_node: \n",
    "            raise ValueError(\"Incorrect data input\")\n",
    "        # nonlinear    \n",
    "        self.in_grad = in_grad\n",
    "        node_grad = self.activation.grad(self.y)\n",
    "        node_grad = node_grad * in_grad\n",
    "        # linear\n",
    "        self.out_grad = super().backward(node_grad)\n",
    "        return self.out_grad\n",
    "\n",
    "    def update(self, learning_rate):\n",
    "        super().update(learning_rate)\n",
    "        return\n",
    "\n",
    "    def __str__(self):\n",
    "        s = super().__str__()\n",
    "        s += str(self.activation)\n",
    "        return s\n",
    "            "
   ]
  },
  {
   "cell_type": "code",
   "execution_count": 13,
   "metadata": {
    "collapsed": true
   },
   "outputs": [],
   "source": [
    "class SoftMaxLayer(ActivationLayer):\n",
    "        \n",
    "    def __init__(self, n_in, n_node, W=None, b=None):\n",
    "        super().__init__(n_in, n_node, W=None, b=None, act=\"SOFTMAX\")\n",
    "        self.predict = None\n",
    "        self.truth = None\n",
    "        return\n",
    "        \n",
    "    def forward(self, x):\n",
    "        # hidden part first, computing softmax\n",
    "        self.y = super().forward(x)\n",
    "        self.predict = self.y.argmax()\n",
    "        return self.predict\n",
    "      \n",
    "    def backward(self, in_truth):\n",
    "        # softmax gradient, dL/ds (combining the cost and activation layer)\n",
    "        self.truth = np.zeros(self.n_node).reshape(self.n_node,1) \n",
    "        self.truth[in_truth] = 1\n",
    "        node_grad = self.y - self.truth\n",
    "        # then linear layer\n",
    "        self.out_grad = LinearLayer.backward(self, node_grad)\n",
    "        return self.out_grad\n",
    "    \n",
    "    def update(self, learning_rate):\n",
    "        super().update(learning_rate)\n",
    "        return\n",
    "    \n",
    "    def __str__(self):\n",
    "        s = super().__str__()\n",
    "        s += \"\\nPrediction:\\n\" + str(self.predict)\n",
    "        s += \"\\nTruth:\\n\" + str(self.truth)\n",
    "        return s\n",
    "            "
   ]
  },
  {
   "cell_type": "code",
   "execution_count": 14,
   "metadata": {
    "collapsed": true
   },
   "outputs": [],
   "source": [
    "import gzip\n",
    "import struct\n",
    "\n",
    "import matplotlib as mpl\n",
    "import matplotlib.pyplot as plt\n",
    "\n",
    "# pre-requirement: MNIST files from http://yann.lecun.com/exdb/mnist/ stored in local directory\n",
    "class MnistInput:\n",
    "    def __init__(self, data):\n",
    "        if data == \"training\":\n",
    "            zX = './train-images-idx3-ubyte.gz'\n",
    "            zy = './train-labels-idx1-ubyte.gz'\n",
    "        elif data == \"testing\":\n",
    "            zX = './t10k-images-idx3-ubyte.gz'\n",
    "            zy = './t10k-labels-idx1-ubyte.gz'\n",
    "        else: raise ValueError(\"Incorrect data input\")\n",
    "        \n",
    "        self.zX = zX\n",
    "        self.zy = zy\n",
    "        return\n",
    "    \n",
    "    def read(self, num):\n",
    "\n",
    "        zX = self.zX\n",
    "        zy = self.zy\n",
    "        with gzip.open(zX) as fX, gzip.open(zy) as fy:\n",
    "            magic, nX, rows, cols = struct.unpack(\">IIII\", fX.read(16))\n",
    "            magic, ny = struct.unpack(\">II\", fy.read(8))\n",
    "            if nX != ny: raise ValueError(\"Inconsistent data and label files\")\n",
    "\n",
    "            img_size = cols*rows\n",
    "            if num <= 0 or num > nX: num = nX \n",
    "            for i in range(num):\n",
    "                X = struct.unpack(\"B\"*img_size, fX.read(img_size))\n",
    "                X = np.array(X).reshape(rows, cols)\n",
    "                y, = struct.unpack(\"B\", fy.read(1))\n",
    "                yield (X, y)\n",
    "        return\n",
    "    \n"
   ]
  },
  {
   "cell_type": "code",
   "execution_count": 15,
   "metadata": {
    "collapsed": true
   },
   "outputs": [],
   "source": [
    "from IPython.core.debugger import set_trace\n",
    "class MNIST:\n",
    "\n",
    "    def __init__(self, n_in=28*28, n_node=28*28+1, n_class=10, learning_rate=0.1):   \n",
    "        self.train_input = MnistInput(\"training\")\n",
    "        self.test_input = MnistInput(\"testing\")\n",
    "        self.n_in = n_in\n",
    "        self.n_node = n_node if (n_node != None) else (n_in+ 1)\n",
    "        self.hidden_layer1 = ActivationLayer(n_in, n_node)\n",
    "        #self.hidden_layer2 = ActivationLayer(n_node, n_node)\n",
    "        self.output_layer = SoftMaxLayer(n_node, n_class)\n",
    "        \n",
    "        self.learning_rate = learning_rate\n",
    "        return\n",
    "    \n",
    "    def forward(self, x):\n",
    "        y = self.hidden_layer1.forward(x)\n",
    "        #y = self.hidden_layer2.forward(y)\n",
    "        self.output_layer.forward(y)\n",
    "        return\n",
    "    \n",
    "    def backward(self, label):\n",
    "        out_grad = self.output_layer.backward(label)\n",
    "        #out_grad = self.hidden_layer2.backward(out_grad)\n",
    "        self.hidden_layer1.backward(out_grad)\n",
    "        return\n",
    "    \n",
    "    def update(self):\n",
    "        self.hidden_layer1.update(self.learning_rate)\n",
    "        #self.hidden_layer2.update(self.learning_rate)\n",
    "        self.output_layer.update(self.learning_rate)\n",
    "        return\n",
    "        \n",
    "    def train_1sample(self, x, label):\n",
    "        self.forward(x)\n",
    "        self.backward(label)\n",
    "        self.update()\n",
    "        return\n",
    "\n",
    "    def train(self, n_sample):\n",
    "        for X, y in self.train_input.read(n_sample):\n",
    "            self.train_1sample(X.reshape(-1,1)/255, y)\n",
    "        return\n",
    "    \n",
    "    def predict_1sample(self, x):\n",
    "        y = self.hidden_layer1.forward(x)\n",
    "        #y = self.hidden_layer2.forward(y)\n",
    "        predict = self.output_layer.forward(y)\n",
    "        return predict\n",
    "        \n",
    "    def test(self, n_sample):\n",
    "        correct = 0\n",
    "        total = 0\n",
    "        for X, y in self.test_input.read(n_sample):\n",
    "            predict = self.predict_1sample(X.reshape(-1,1)/255)\n",
    "            correct += 1 * (predict == y)\n",
    "            total += 1\n",
    "            #print(\"\\nPredict:\", predict)\n",
    "            #plt.imshow(X, cmap=mpl.cm.Greys)\n",
    "            #plt.show()\n",
    "        accuracy = correct/total\n",
    "        return accuracy"
   ]
  },
  {
   "cell_type": "code",
   "execution_count": 16,
   "metadata": {},
   "outputs": [
    {
     "name": "stdout",
     "output_type": "stream",
     "text": [
      "\n",
      "Predict:  [1 2 3] 2\n",
      "\n",
      "Predict:  [2 3 1] 1\n",
      "\n",
      "Predict:  [3 1 2] 0\n"
     ]
    }
   ],
   "source": [
    "mnist = MNIST(3,4,3)\n",
    "X = [\n",
    "    [1,2,3],\n",
    "    [2,1,3],\n",
    "    [3,1,2],\n",
    "    [3,2,1],\n",
    "    [1,3,2],\n",
    "    [2,3,1]\n",
    "    ]\n",
    "Y = [2,2,0,0,1,1]\n",
    "X = np.array(X)\n",
    "Y = np.array(Y)\n",
    "\n",
    "for j in range(40):\n",
    "    for i in range(X.shape[0]):\n",
    "        mnist.train_1sample(X[i].reshape(-1,1), Y[i])\n",
    "\n",
    "X = np.array([[1,2,3],[2,3,1],[3,1,2]])\n",
    "for i in range(X.shape[0]):\n",
    "    predict = mnist.predict_1sample(X[i].reshape(-1,1))\n",
    "    print(\"\\nPredict: \", X[i], predict)\n"
   ]
  },
  {
   "cell_type": "code",
   "execution_count": 19,
   "metadata": {},
   "outputs": [
    {
     "name": "stdout",
     "output_type": "stream",
     "text": [
      "\n",
      "Accuracy of epoch 0 is 0.9525\n",
      "\n",
      "Accuracy of epoch 1 is 0.9585\n",
      "\n",
      "Accuracy of epoch 2 is 0.9632\n",
      "\n",
      "Accuracy of epoch 3 is 0.9647\n",
      "\n",
      "Accuracy of epoch 4 is 0.9668\n"
     ]
    }
   ],
   "source": [
    "\n",
    "mnist = MNIST()\n",
    "for i in range(5):\n",
    "    mnist.train(-1)\n",
    "    accuracy = mnist.test(-1)\n",
    "    print(\"\\nAccuracy of epoch {} is {}\".format(i, accuracy))\n"
   ]
  },
  {
   "cell_type": "code",
   "execution_count": 20,
   "metadata": {},
   "outputs": [
    {
     "name": "stdout",
     "output_type": "stream",
     "text": [
      "\n",
      "Predict:  7\n"
     ]
    },
    {
     "data": {
      "image/png": "[encoded data removed]",
      "text/plain": [
       "<matplotlib.figure.Figure at 0x10a7c9128>"
      ]
     },
     "metadata": {},
     "output_type": "display_data"
    },
    {
     "name": "stdout",
     "output_type": "stream",
     "text": [
      "\n",
      "Predict:  2\n"
     ]
    },
    {
     "data": {
      "image/png": "[encoded data removed]",
      "text/plain": [
       "<matplotlib.figure.Figure at 0x100ee9c88>"
      ]
     },
     "metadata": {},
     "output_type": "display_data"
    },
    {
     "name": "stdout",
     "output_type": "stream",
     "text": [
      "\n",
      "Predict:  1\n"
     ]
    },
    {
     "data": {
      "image/png": "[encoded data removed]",
      "text/plain": [
       "<matplotlib.figure.Figure at 0x10aa8f630>"
      ]
     },
     "metadata": {},
     "output_type": "display_data"
    },
    {
     "name": "stdout",
     "output_type": "stream",
     "text": [
      "\n",
      "Predict:  0\n"
     ]
    },
    {
     "data": {
      "image/png": "[encoded data removed]",
      "text/plain": [
       "<matplotlib.figure.Figure at 0x10b421470>"
      ]
     },
     "metadata": {},
     "output_type": "display_data"
    },
    {
     "name": "stdout",
     "output_type": "stream",
     "text": [
      "\n",
      "Predict:  4\n"
     ]
    },
    {
     "data": {
      "image/png": "[encoded data removed]",
      "text/plain": [
       "<matplotlib.figure.Figure at 0x1050efa20>"
      ]
     },
     "metadata": {},
     "output_type": "display_data"
    },
    {
     "name": "stdout",
     "output_type": "stream",
     "text": [
      "\n",
      "Predict:  1\n"
     ]
    },
    {
     "data": {
      "image/png": "[encoded data removed]",
      "text/plain": [
       "<matplotlib.figure.Figure at 0x105396a20>"
      ]
     },
     "metadata": {},
     "output_type": "display_data"
    },
    {
     "name": "stdout",
     "output_type": "stream",
     "text": [
      "\n",
      "Predict:  4\n"
     ]
    },
    {
     "data": {
      "image/png": "[encoded data removed]",
      "text/plain": [
       "<matplotlib.figure.Figure at 0x10b495b38>"
      ]
     },
     "metadata": {},
     "output_type": "display_data"
    },
    {
     "name": "stdout",
     "output_type": "stream",
     "text": [
      "\n",
      "Predict:  9\n"
     ]
    },
    {
     "data": {
      "image/png": "[encoded data removed]",
      "text/plain": [
       "<matplotlib.figure.Figure at 0x105043cf8>"
      ]
     },
     "metadata": {},
     "output_type": "display_data"
    },
    {
     "name": "stdout",
     "output_type": "stream",
     "text": [
      "\n",
      "Predict:  5\n"
     ]
    },
    {
     "data": {
      "image/png": "[encoded data removed]",
      "text/plain": [
       "<matplotlib.figure.Figure at 0x101954518>"
      ]
     },
     "metadata": {},
     "output_type": "display_data"
    },
    {
     "name": "stdout",
     "output_type": "stream",
     "text": [
      "\n",
      "Predict:  9\n"
     ]
    },
    {
     "data": {
      "image/png": "[encoded data removed]",
      "text/plain": [
       "<matplotlib.figure.Figure at 0x1051edc88>"
      ]
     },
     "metadata": {},
     "output_type": "display_data"
    }
   ],
   "source": [
    "for X, y in mnist.test_input.read(10):\n",
    "    predict = mnist.predict_1sample(X.reshape(-1,1)/255)\n",
    "    print(\"\\nPredict: \", predict)\n",
    "    plt.imshow(X, cmap=mpl.cm.Greys)\n",
    "    plt.show()"
   ]
  }
 ],
 "metadata": {
  "kernelspec": {
   "display_name": "Python 3",
   "language": "python",
   "name": "python3"
  },
  "language_info": {
   "codemirror_mode": {
    "name": "ipython",
    "version": 3
   },
   "file_extension": ".py",
   "mimetype": "text/x-python",
   "name": "python",
   "nbconvert_exporter": "python",
   "pygments_lexer": "ipython3",
   "version": "3.6.2"
  }
 },
 "nbformat": 4,
 "nbformat_minor": 2
}
